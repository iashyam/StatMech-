{
 "cells": [
  {
   "cell_type": "code",
   "execution_count": 1,
   "id": "cc4efd3c",
   "metadata": {},
   "outputs": [],
   "source": [
    "import math\n",
    "import numpy as np\n",
    "import matplotlib.pyplot as plt\n",
    "plt.style.use('seaborn-whitegrid')\n",
    "from random import random\n",
    "%matplotlib inline"
   ]
  },
  {
   "cell_type": "code",
   "execution_count": 8,
   "id": "7efb0b81",
   "metadata": {},
   "outputs": [],
   "source": [
    "def wall_time(coord, velcomp, rad):  \n",
    "    if velcomp > 0.0:\n",
    "        del_t = (1.0 - rad - coord) / velcomp #we are taking edge length to be 1 here modify 1 with edge length\n",
    "    elif velcomp < 0.0:\n",
    "        del_t = (coord - rad) / abs(velcomp) #or can go as (rad - coord)/velcomp\n",
    "    else:\n",
    "        del_t = float('inf') #float inf is stored as very big number in python\n",
    "    return del_t\n",
    "\n",
    "\n",
    "# Function to calculate time it takes for a pair of particles to collide. \n",
    "# pos1 and pos2 are positions of particles 1 and 2, vel1 and vel2 are their \n",
    "# velocities. rad is the radius of the particles. \n",
    "def pair_time(pos1, vel1, pos2, vel2, rad):  \n",
    "    rel_pos = pos2 - pos1\n",
    "    rel_vel = vel2 - vel1\n",
    "    rel_dist_squar = np.dot(rel_pos,rel_pos)\n",
    "    rel_speed_squar = np.dot(rel_vel,rel_vel)\n",
    "    scal_prod = np.dot(rel_pos,rel_vel)\n",
    "    a = scal_prod ** 2 - rel_speed_squar * ( rel_dist_squar - 4.0 * rad **2) #a is just another parameter\n",
    "    if a > 0.0 and scal_prod < 0.0: ## Conditions for collision.\n",
    "        del_t = - (scal_prod + np.sqrt(a)) / rel_speed_squar ## Collision time.\n",
    "    else:\n",
    "        del_t = float('inf')\n",
    "    return del_t"
   ]
  },
  {
   "cell_type": "code",
   "execution_count": 9,
   "id": "52743e3b",
   "metadata": {},
   "outputs": [],
   "source": [
    "######################### Initialization #################################\n",
    "L = 1. ## Box edge length\n",
    "Natoms = 16  # Number of disks\n",
    "density = 0.05 # Fraction of the area of the box covered by the disks\n",
    "Ratom = np.sqrt(density/(Natoms*np.pi))   ## Radius of disk.\n",
    "\n",
    "\n",
    "## List indexing all pairs of atoms.\n",
    "pairs = [[i,j] for i in range(Natoms) for j in range(i+1, Natoms)] \n",
    "## Positions and velocities of disks.\n",
    "x = np.linspace(0.1,0.9,16)\n",
    "positions = np.array(list((i,i) for i in x))\n",
    "velocities = np.array([(5*random(), 5*random() )for _ in range(Natoms)])\n",
    "# print(velocities)\n",
    "\n",
    "Speed_list = list() #list to store data after every event\n",
    "\n",
    "t = 0.0 # Initial time.\n",
    "n_events = 20000 # Number of collision events.dd"
   ]
  },
  {
   "cell_type": "code",
   "execution_count": 17,
   "id": "76997efe",
   "metadata": {},
   "outputs": [],
   "source": [
    " ############### Event Loop ##############################################\n",
    "for event in range(n_events):\n",
    "    # Wall collision times for all disks and their velocity components.\n",
    "    wall_times = [wall_time(positions[i][j], velocities[i][j], Ratom) for i in range(Natoms) for j in range(2)]\n",
    "    # Pair collision times\n",
    "    pair_times = [pair_time(positions[i], velocities[i], positions[j], velocities[j], Ratom) for i,j in pairs] \n",
    "    # The next collision event is the minimum of wall and pair collision times.\n",
    "    next_event = min(wall_times + pair_times)  \n",
    "    t += next_event \n",
    "    for i in range(Natoms):\n",
    "        positions[i] += velocities[i]*next_event # Evolve positions to collision event\n",
    "    if min(wall_times) < min(pair_times): # Check if next event is a collision with a wall or pair collions\n",
    "        wall_index = wall_times.index(next_event)\n",
    "#         print(wall_index)\n",
    "        particle, component = divmod(wall_index, 2) ##)How does that even work?\n",
    "        velocities[particle][component] *= -1.0 ## Velocity component normal to wall changes sign\n",
    "    else:\n",
    "        pair_index = pair_times.index(next_event)\n",
    "        particle_1, particle_2 = pairs[pair_index] # Indices of particles participating in collision.\n",
    "        rel_pos = positions[particle_2] - positions[particle_1]\n",
    "        rel_vel = velocities[particle_2] - velocities[particle_1]\n",
    "        distance = np.sqrt(np.dot(rel_pos,rel_pos))\n",
    "        unit_perp = rel_pos/distance\n",
    "        scal_prod = np.dot(rel_vel,unit_perp)\n",
    "        velocities[particle_1] += scal_prod*unit_perp # Change in velocities of atoms colliding with each other\n",
    "        velocities[particle_2] -= scal_prod*unit_perp\n",
    "     \n",
    "    #storing the data to plot histogram afterwards\n",
    "    if event>300:\n",
    "    for atom in range(Natoms):\n",
    "        v_list = (np.sqrt(np.dot(velocities[atom], velocities[atom]))) #A list with all speeeds\n",
    "        Speed_list.append(v_list)"
   ]
  },
  {
   "cell_type": "code",
   "execution_count": 28,
   "id": "84639a22",
   "metadata": {},
   "outputs": [
    {
     "data": {
      "text/plain": [
       "151.31683405237186"
      ]
     },
     "execution_count": 28,
     "metadata": {},
     "output_type": "execute_result"
    }
   ],
   "source": [
    "E = 0\n",
    "for i in range(Natoms):\n",
    "    E += 0.5*Speed_list[i]**2\n",
    "E"
   ]
  },
  {
   "cell_type": "code",
   "execution_count": 45,
   "id": "44984dda",
   "metadata": {},
   "outputs": [
    {
     "data": {
      "text/plain": [
       "[<matplotlib.lines.Line2D at 0x1e147b7c2e0>]"
      ]
     },
     "execution_count": 45,
     "metadata": {},
     "output_type": "execute_result"
    },
    {
     "data": {
      "image/png": "[encoded data removed]",
      "text/plain": [
       "<Figure size 432x288 with 1 Axes>"
      ]
     },
     "metadata": {
      "needs_background": "light"
     },
     "output_type": "display_data"
    }
   ],
   "source": [
    "plt.hist(Speed_list, bins=30, density=True);\n",
    "plt.title('Speed Distribution Graph');\n",
    "x = np.linspace(0,12,100)\n",
    "\n",
    "\n",
    "k = Natoms/(2*E)\n",
    "A = Natoms/E\n",
    "#theoritical graph in 2-D\n",
    "def max_boltz(v):\n",
    "    return 2*np.pi*v*np.exp(-k*v**2)\n",
    "\n",
    "\n",
    "y = (0.2/12)*max_boltz(x)\n",
    "plt.plot(x,y)"
   ]
  },
  {
   "cell_type": "code",
   "execution_count": 19,
   "id": "6ad45100",
   "metadata": {},
   "outputs": [
    {
     "data": {
      "text/plain": [
       "[<matplotlib.lines.Line2D at 0x1e13906a110>]"
      ]
     },
     "execution_count": 19,
     "metadata": {},
     "output_type": "execute_result"
    },
    {
     "data": {
      "image/png": "[encoded data removed]",
      "text/plain": [
       "<Figure size 432x288 with 1 Axes>"
      ]
     },
     "metadata": {
      "needs_background": "light"
     },
     "output_type": "display_data"
    }
   ],
   "source": [
    "x = np.linspace(0,,100)\n",
    "\n",
    "#theoritical graph in 2-D\n",
    "def max_boltz(v):\n",
    "    return 2*np.pi*v*np.exp(-v**2)\n",
    "\n",
    "y = max_boltz(x)\n",
    "plt.plot(x,y)"
   ]
  },
  {
   "cell_type": "markdown",
   "id": "7df21956",
   "metadata": {},
   "source": [
    "## Position Distribution"
   ]
  },
  {
   "cell_type": "code",
   "execution_count": 4,
   "id": "e1416f6b",
   "metadata": {},
   "outputs": [],
   "source": [
    "######################### Initialization #################################\n",
    "L = 1. ## Box edge length\n",
    "Natoms = 16  # Number of disks\n",
    "density = 0.05 # Fraction of the area of the box covered by the disks\n",
    "Ratom = np.sqrt(density/(Natoms*np.pi))   ## Radius of disk.\n",
    "\n",
    "\n",
    "## List indexing all pairs of atoms.\n",
    "pairs = [[i,j] for i in range(Natoms) for j in range(i+1, Natoms)] \n",
    "## Positions and velocities of disks.\n",
    "x = np.linspace(0.1,0.9,16)\n",
    "positions = np.array(list((i,i) for i in x))\n",
    "velocities = np.array([(5*random(), 5*random() )for _ in range(Natoms)])\n",
    "# print(velocities)\n",
    "\n",
    "Speed_list = list() #list to store data after every event\n",
    "\n",
    "t = 0.0 # Initial time.\n",
    "n_events = 20000 # Number of collision events.dd\n",
    "\n",
    "t_spot = 0 #instantanious time\n",
    "delta_t = 0.1 #time step\n",
    "t_final = 10\n",
    "\n",
    "n_events = 1000\n",
    "\n",
    "position_array = list()\n",
    "\n",
    " ############### Event Loop ##############################################\n",
    "for event in range(n_events):\n",
    "    # Wall collision times for all disks and their velocity components.\n",
    "    wall_times = [wall_time(positions[i][j], velocities[i][j], Ratom) for i in range(Natoms) for j in range(2)]\n",
    "    # Pair collision times\n",
    "    pair_times = [pair_time(positions[i], velocities[i], positions[j], velocities[j], Ratom) for i,j in pairs] \n",
    "    # The next collision event is the minimum of wall and pair collision times.\n",
    "    next_event = min(wall_times + pair_times)  \n",
    "    \n",
    "    if event>50:\n",
    "        t_previous = t\n",
    "        for snapshot_time in range(int(t_previous), int(t+next_event)):\n",
    "            delta_t = snapshot_time - t_previous\n",
    "            p_list = list() #empty list to store only one coordinates of all atoms\n",
    "            for i in range(Natoms):\n",
    "                positions[i] += velocities[i]*delta_t\n",
    "                p_list.append(positions[i][0])\n",
    "            position_array.append(p_list)\n",
    "        t += next_event \n",
    "        for i in range(Natoms):\n",
    "            positions[i] += velocities[i]*(t-t_previous)\n",
    "    else:\n",
    "        t += next_event\n",
    "    for i in range(Natoms):\n",
    "        positions[i] += velocities[i]*next_event # Evolve positions to collision event\n",
    "    if min(wall_times) < min(pair_times): # Check if next event is a collision with a wall or pair collions\n",
    "        wall_index = wall_times.index(next_event)\n",
    "#         print(wall_index)\n",
    "        particle, component = divmod(wall_index, 2) ##)How does that even work?\n",
    "        velocities[particle][component] *= -1.0 ## Velocity component normal to wall changes sign\n",
    "    else:\n",
    "        pair_index = pair_times.index(next_event)\n",
    "        particle_1, particle_2 = pairs[pair_index] # Indices of particles participating in collision.\n",
    "        rel_pos = positions[particle_2] - positions[particle_1]\n",
    "        rel_vel = velocities[particle_2] - velocities[particle_1]\n",
    "        distance = np.sqrt(np.dot(rel_pos,rel_pos))\n",
    "        unit_perp = rel_pos/distance\n",
    "        scal_prod = np.dot(rel_vel,unit_perp)\n",
    "        velocities[particle_1] += scal_prod*unit_perp # Change in velocities of atoms colliding with each other\n",
    "        velocities[particle_2] -= scal_prod*unit_perp\n"
   ]
  },
  {
   "cell_type": "code",
   "execution_count": null,
   "id": "8d92eebc",
   "metadata": {},
   "outputs": [],
   "source": []
  }
 ],
 "metadata": {
  "kernelspec": {
   "display_name": "Python 3 (ipykernel)",
   "language": "python",
   "name": "python3"
  },
  "language_info": {
   "codemirror_mode": {
    "name": "ipython",
    "version": 3
   },
   "file_extension": ".py",
   "mimetype": "text/x-python",
   "name": "python",
   "nbconvert_exporter": "python",
   "pygments_lexer": "ipython3",
   "version": "3.10.0"
  }
 },
 "nbformat": 4,
 "nbformat_minor": 5
}
