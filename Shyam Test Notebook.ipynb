{
 "cells": [
  {
   "cell_type": "code",
   "execution_count": 1,
   "id": "4012ccb9",
   "metadata": {},
   "outputs": [],
   "source": [
    "from math import pi\n",
    "import math\n",
    "from tqdm import tqdm\n",
    "import numpy as np \n",
    "import matplotlib.pyplot as plt\n",
    "from random import randint\n",
    "plt.style.use('seaborn-whitegrid')\n",
    "%matplotlib inline"
   ]
  },
  {
   "cell_type": "code",
   "execution_count": 26,
   "id": "a10570e1",
   "metadata": {},
   "outputs": [
    {
     "name": "stdout",
     "output_type": "stream",
     "text": [
      "0.25000000000000006\n"
     ]
    }
   ],
   "source": [
    "#defining intial varivales\n",
    "L = 1 #length of the box\n",
    "density = 0.2 #fraction of area occupied by the balls on table\n",
    "N = 10 #number of atoms\n",
    "Ratom = math.sqrt(density/(pi*N)) #radius of the ball\n",
    "\n",
    "## List indexing all pairs of atoms.\n",
    "pairs = [[i,j] for i in range(N) for j in range(i+1, N)] \n",
    "## Positions and velocities of disks.\n",
    "\n",
    "equilib_sep = L/(N+1)\n",
    "\n",
    "positions = np.array([(0.25,0.2),(0.25,0.4),(0.25,0.6),(0.25,0.8),\n",
    "             (0.50,0.2),(0.50,0.4),(0.50,0.6),(0.50,0.8),\n",
    "             (0.75,0.4),(0.75,0.6)])\n",
    "\n",
    "velocities = np.array([(0.,0.) for _ in range(10)])\n",
    "\n",
    "\n",
    "speed = math.sqrt(2.5)\n",
    "theta = 2*np.pi*np.random.random() #random angle to give random direction\n",
    "\n",
    "chosen_one = randint(0,10) #chooseing a random particle to give velocity\n",
    "\n",
    "velocities[chosen_one] = (speed*np.cos(theta), speed*np.sin(theta))\n",
    "\n",
    "const_KE = np.dot(velocities[chosen_one],velocities[chosen_one])\n",
    "\n",
    "T = const_KE/N\n",
    "print(T)\n",
    "\n",
    "KE_list = [const_KE] #total kinetic energy to keep track of\n",
    "\n",
    "\n",
    "t = 0.0 # Initial time.\n",
    "n_events = 20000 # Number of collision events.\n",
    "time_list = [t]"
   ]
  },
  {
   "cell_type": "code",
   "execution_count": 3,
   "id": "8c39a60c",
   "metadata": {},
   "outputs": [],
   "source": [
    "def wall_time(coord, velcomp, rad):  \n",
    "    if velcomp > 0.0:\n",
    "        del_t = (1.0 - rad - coord) / velcomp #we are taking edge length to be 1 here modify 1 with edge length\n",
    "    elif velcomp < 0.0:\n",
    "        del_t = (coord - rad) / abs(velcomp) #or can go as (rad - coord)/velcomp\n",
    "    else:\n",
    "        del_t = float('inf') #float inf is stored as very big number in python\n",
    "    return del_t\n",
    "\n",
    "\n",
    "# Function to calculate time it takes for a pair of particles to collide. \n",
    "# pos1 and pos2 are positions of particles 1 and 2, vel1 and vel2 are their \n",
    "# velocities. rad is the radius of the particles. \n",
    "def pair_time(pos1, vel1, pos2, vel2, rad):  \n",
    "    rel_pos = pos2 - pos1\n",
    "    rel_vel = vel2 - vel1\n",
    "    rel_dist_squar = np.dot(rel_pos,rel_pos)\n",
    "    rel_speed_squar = np.dot(rel_vel,rel_vel)\n",
    "    scal_prod = np.dot(rel_pos,rel_vel)\n",
    "    a = scal_prod ** 2 - rel_speed_squar * ( rel_dist_squar - 4.0 * rad **2) #a is just another parameter\n",
    "    if a > 0.0 and scal_prod < 0.0: ## Conditions for collision.\n",
    "        del_t = - (scal_prod + np.sqrt(a)) / rel_speed_squar ## Collision time.\n",
    "    else:\n",
    "        del_t = float('inf')\n",
    "    return del_t\n",
    "\n",
    "\n",
    "# Function to generate an image of the disk configuration in the box.\n",
    "def create_picture(positions):\n",
    "    plt.cla()\n",
    "    plt.gca().set_aspect('equal')\n",
    "    plt.axis([0, L, 0, L])\n",
    "    plt.setp(plt.gca(), xticks=[0, L], yticks=[0, L])\n",
    "    for x,y in positions:\n",
    "        atom = plt.Circle((x, y), Ratom, fc='r')\n",
    "        plt.gca().add_patch(atom)"
   ]
  },
  {
   "cell_type": "code",
   "execution_count": 21,
   "id": "7d35b62d",
   "metadata": {},
   "outputs": [
    {
     "name": "stderr",
     "output_type": "stream",
     "text": [
      "100%|██████████████████████████████████| 20000/20000 [00:16<00:00, 1217.94it/s]\n"
     ]
    }
   ],
   "source": [
    "Speed_list = []\n",
    "Ux_list = []\n",
    "for event in tqdm(range(n_events)):\n",
    "    # Wall collision times for all disks and their velocity components.\n",
    "    wall_times = [wall_time(positions[i][j], velocities[i][j], Ratom) for i in range(N) for j in range(2)]\n",
    "    # Pair collision times\n",
    "    pair_times = [pair_time(positions[i], velocities[i], positions[j], velocities[j], Ratom) for i,j in pairs] \n",
    "    # The next collision event is the minimum of wall and pair collision times.\n",
    "    next_event = min(wall_times + pair_times)  \n",
    "    t += next_event \n",
    "    for i in range(N):\n",
    "        positions[i] += velocities[i]*next_event # Evolve positions to collision event\n",
    "    if min(wall_times) < min(pair_times): # Check if next event is a collision with a wall or pair collions\n",
    "        wall_index = wall_times.index(next_event)\n",
    "#         print(wall_index)\n",
    "        particle, component = divmod(wall_index, 2) ##)How does that even work?\n",
    "        velocities[particle][component] *= -1.0 ## Velocity component normal to wall changes sign\n",
    "    else:\n",
    "        pair_index = pair_times.index(next_event)\n",
    "        particle_1, particle_2 = pairs[pair_index] # Indices of particles participating in collision.\n",
    "        rel_pos = positions[particle_2] - positions[particle_1]\n",
    "        rel_vel = velocities[particle_2] - velocities[particle_1]\n",
    "        distance = np.sqrt(np.dot(rel_pos,rel_pos))\n",
    "        unit_perp = rel_pos/distance\n",
    "        scal_prod = np.dot(rel_vel,unit_perp)\n",
    "        velocities[particle_1] += scal_prod*unit_perp # Change in velocities of atoms colliding with each other\n",
    "        velocities[particle_2] -= scal_prod*unit_perp\n",
    "    \n",
    "    speed_of_all = [np.dot(i,i) for i in velocities]\n",
    "    KE_list.append(sum(speed_of_all))\n",
    "    time_list.append(t)\n",
    "    \n",
    "    if event>1000:\n",
    "        for atom in range(N):\n",
    "            v_list = (np.sqrt(np.dot(velocities[atom], velocities[atom]))) #A list with all speeeds\n",
    "            Ux_list.append((velocities[atom][0]))\n",
    "#             v_list = (velocities[atom][0]) #A list with all speeed\n",
    "            Speed_list.append(v_list)"
   ]
  },
  {
   "cell_type": "code",
   "execution_count": 5,
   "id": "aa37b94e",
   "metadata": {},
   "outputs": [
    {
     "data": {
      "image/png": "[encoded data removed]",
      "text/plain": [
       "<Figure size 432x288 with 1 Axes>"
      ]
     },
     "metadata": {
      "needs_background": "light"
     },
     "output_type": "display_data"
    }
   ],
   "source": [
    "create_picture(positions)"
   ]
  },
  {
   "cell_type": "code",
   "execution_count": 6,
   "id": "e6d691e3",
   "metadata": {},
   "outputs": [
    {
     "data": {
      "text/plain": [
       "[<matplotlib.lines.Line2D at 0x2705ee523b0>]"
      ]
     },
     "execution_count": 6,
     "metadata": {},
     "output_type": "execute_result"
    },
    {
     "data": {
      "image/png": "[encoded data removed]",
      "text/plain": [
       "<Figure size 432x288 with 1 Axes>"
      ]
     },
     "metadata": {
      "needs_background": "light"
     },
     "output_type": "display_data"
    }
   ],
   "source": [
    "plt.plot(time_list, KE_list)"
   ]
  },
  {
   "cell_type": "code",
   "execution_count": 9,
   "id": "86b8cb7b",
   "metadata": {},
   "outputs": [],
   "source": [
    "def max_dist(u):\n",
    "    return (2*u/T)*np.exp(-(u*u/T))\n",
    "\n",
    "us = np.linspace(0,1.2,100)\n",
    "uus = max_dist(us)"
   ]
  },
  {
   "cell_type": "code",
   "execution_count": 10,
   "id": "eb07819f",
   "metadata": {},
   "outputs": [
    {
     "data": {
      "image/png": "[encoded data removed]",
      "text/plain": [
       "<Figure size 432x288 with 1 Axes>"
      ]
     },
     "metadata": {
      "needs_background": "light"
     },
     "output_type": "display_data"
    }
   ],
   "source": [
    "plt.hist(Speed_list, bins=50, density= True, label ='Data');\n",
    "plt.plot(us,uus, label ='Theoritical Curve');\n",
    "plt.legend();"
   ]
  },
  {
   "cell_type": "code",
   "execution_count": null,
   "id": "02681ae1",
   "metadata": {},
   "outputs": [],
   "source": [
    "plt.plot(us,uus)"
   ]
  },
  {
   "cell_type": "code",
   "execution_count": 24,
   "id": "357f799c",
   "metadata": {
    "scrolled": true
   },
   "outputs": [],
   "source": [
    "def max_dist_one(u):\n",
    "    return np.exp(-u*u/T)\n",
    "\n",
    "us = np.linspace(-1,1,100)\n",
    "uxs = max_dist_one(us)"
   ]
  },
  {
   "cell_type": "code",
   "execution_count": 39,
   "id": "a99c0400",
   "metadata": {},
   "outputs": [
    {
     "data": {
      "text/plain": [
       "[<matplotlib.lines.Line2D at 0x27064116aa0>]"
      ]
     },
     "execution_count": 39,
     "metadata": {},
     "output_type": "execute_result"
    },
    {
     "data": {
      "image/png": "[encoded data removed]",
      "text/plain": [
       "<Figure size 432x288 with 1 Axes>"
      ]
     },
     "metadata": {
      "needs_background": "light"
     },
     "output_type": "display_data"
    }
   ],
   "source": [
    "plt.hist(Ux_list, bins=50, density=True);\n",
    "plt.plot(us, uxs)"
   ]
  },
  {
   "cell_type": "code",
   "execution_count": 34,
   "id": "7f09eafd",
   "metadata": {},
   "outputs": [
    {
     "data": {
      "text/plain": [
       "0.19997438381544796"
      ]
     },
     "execution_count": 34,
     "metadata": {},
     "output_type": "execute_result"
    }
   ],
   "source": [
    "vx = np.array(Ux_list)\n",
    "v_rms = sum(vx**2)/len(vx)\n",
    "v_rms*math.sqrt(2.5)"
   ]
  }
 ],
 "metadata": {
  "kernelspec": {
   "display_name": "Python 3 (ipykernel)",
   "language": "python",
   "name": "python3"
  },
  "language_info": {
   "codemirror_mode": {
    "name": "ipython",
    "version": 3
   },
   "file_extension": ".py",
   "mimetype": "text/x-python",
   "name": "python",
   "nbconvert_exporter": "python",
   "pygments_lexer": "ipython3",
   "version": "3.10.0"
  }
 },
 "nbformat": 4,
 "nbformat_minor": 5
}
