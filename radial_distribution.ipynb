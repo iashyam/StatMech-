{
 "cells": [
  {
   "cell_type": "code",
   "execution_count": 1,
   "metadata": {
    "id": "1CzRnSUbYV2E"
   },
   "outputs": [],
   "source": [
    "import numpy as np\n",
    "import math\n",
    "from tqdm import tqdm\n",
    "import matplotlib.pyplot as plt\n",
    "%matplotlib inline\n",
    "pi = math.pi"
   ]
  },
  {
   "cell_type": "code",
   "execution_count": 2,
   "metadata": {
    "id": "Q0fw2bTbYV2G"
   },
   "outputs": [],
   "source": [
    "rcut = 3.0  ##### Cut-off distance. If distance between atoms is greater than this, interaction between them is ignored.\n",
    "rcutsquare = rcut**2\n",
    "g2 = 1./rcutsquare\n",
    "g6 = g2*g2*g2\n",
    "potcut = 4.*g6*(g6-1) ##### Term to be subtracted from pair potential energy"
   ]
  },
  {
   "cell_type": "code",
   "execution_count": 3,
   "metadata": {
    "id": "i51VhivYYV2G"
   },
   "outputs": [],
   "source": [
    "##### Function to compute acceleration for a pair of atoms. r12 is relative displacement of atoms.\n",
    "\n",
    "def acceleration(r12): \n",
    "    r12square = np.dot(r12,r12)\n",
    "    f2 = 1./r12square #1/r^2\n",
    "    f6 = f2*f2*f2 #1/r^6\n",
    "    acc = 48.*f2*f6*(f6-0.5)*r12\n",
    "    return acc\n"
   ]
  },
  {
   "cell_type": "code",
   "execution_count": 4,
   "metadata": {
    "id": "n8B7Y76QYV2H"
   },
   "outputs": [],
   "source": [
    "#### Function to compute potential energy for the system of particles. `pos' is the array of position vectors.\n",
    "def potentialenergy(pos):\n",
    "    potential = 0.\n",
    "    for i in range(Natoms-1):\n",
    "        for j in range(i+1,Natoms):\n",
    "            rij = pos[i] - pos[j] ## Relative position vector of the pair\n",
    "            for l in range(2):  ### Calculating the correct separation between particles because of periodic boundary conditions.\n",
    "                if abs(rij[l])>0.5*L: rij[l] -= L*np.sign(rij[l])\n",
    "            rijsquare = np.dot(rij,rij)\n",
    "            if rijsquare < rcutsquare: # Imposing interaction cut-off\n",
    "                f2 = 1./rijsquare\n",
    "                f6 = f2*f2*f2\n",
    "                potential += 4.*f6*(f6-1.) - potcut\n",
    "    return potential"
   ]
  },
  {
   "cell_type": "code",
   "execution_count": 79,
   "metadata": {
    "id": "tT49TSmdYV2H"
   },
   "outputs": [],
   "source": [
    "number = 5\n",
    "Natoms = number**2  # No. of atoms\n",
    "Ratom = 0.5  ### Radius of atom used to illustrate the atom as a sphere.\n",
    "rho = 0.25 ### Number Density\n",
    "L = math.pow(Natoms/rho,0.5) # Length of a side of the square containing the gas.\n",
    "T0 = 120. # Natural temperture scale, T0 = epsilon/k.\n",
    "# Temp = 0.01 #dimensionless temperature\n",
    "T = 2.5  # Temperature in Kelvin\n",
    "dt = 1e-2  # Time step for Verlet Algorithm\n",
    "#"
   ]
  },
  {
   "cell_type": "code",
   "execution_count": 80,
   "metadata": {
    "id": "12feYni7YV2I"
   },
   "outputs": [],
   "source": [
    "###### Atoms are arranged initially in a square lattice configuration with spacing between neighbors equal to equilibrium separation of the potential energy.\n",
    "\n",
    "equilib_sep = math.pow(2.,1./6.)  ## Equilibrium separation of atoms r_0 = 2^{1/6}\n",
    "wall_spacing = (L-(number-1)*equilib_sep)/2.  ## Distance betwee the walls and the initial array of atoms.\n",
    "poslist = []  # List for positions of atoms\n",
    "vlist = []   # List for velocities\n",
    "\n",
    "################  Initialize positions and velocities ##############################################\n",
    "x, y = wall_spacing, wall_spacing\n",
    "\n",
    "for i in range(number):\n",
    "    for j in range(number):\n",
    "        xi, yi = x + equilib_sep*j, y + equilib_sep*i\n",
    "        poslist.append((xi,yi))\n",
    "\n",
    "\n",
    "####### Initially, all particles have the same speed but random velocity directions. ################\n",
    "v0 = math.sqrt(2.*T/T0)\n",
    "\n",
    "for i in range(Natoms):\n",
    "    phi = 2*np.pi*np.random.random()\n",
    "    vx = v0*np.cos(phi)\n",
    "    vy = v0*np.sin(phi)\n",
    "    vlist.append((vx,vy))\n",
    "###################################################################################################\n",
    "\n",
    "pos = np.array(poslist)  ### Converts lists to numpy arrays\n",
    "v = np.array(vlist) ## Scaled velocity\n",
    "\n",
    "\n",
    "V_cm = np.sum(v, axis = 0)/Natoms ## Correcting for CM velocity.\n",
    "V = np.array([V_cm,]*Natoms)\n",
    "v -= V  \n"
   ]
  },
  {
   "cell_type": "code",
   "execution_count": 81,
   "metadata": {},
   "outputs": [],
   "source": [
    "delta = 0.1 #bin size\n",
    "no_of_shells = int(0.5*L/delta)\n",
    "\n",
    "#RDF function\n",
    "def rdf(pair_distance, no_of_shells=no_of_shells):\n",
    "    r_array = np.zeros(no_of_shells)\n",
    "    which_bin = int(pair_distance/delta)\n",
    "    if which_bin<=no_of_shells-1:\n",
    "        bin_array[which_bin] += 1\n",
    "    for i in range(1,int(no_of_shells)):\n",
    "        r_array[i] = bin_array[i]/(2*rho*pi*i*delta*delta)\n",
    "    \n",
    "    return r_array  "
   ]
  },
  {
   "cell_type": "code",
   "execution_count": 82,
   "metadata": {
    "colab": {
     "base_uri": "https://localhost:8080/"
    },
    "id": "dWLHWFPEYV2J",
    "outputId": "5a0e698c-e84c-49fb-dd56-c1e70fd19277"
   },
   "outputs": [
    {
     "name": "stderr",
     "output_type": "stream",
     "text": [
      "100%|███████████████████████████████████| 10000/10000 [00:51<00:00, 193.89it/s]\n"
     ]
    }
   ],
   "source": [
    "t_initial = 0. # Initial time.\n",
    "t_final = 100. # Time upto which simulation is carried out.\n",
    "rdf_data = []\n",
    "dist_array = np.zeros(no_of_shells)\n",
    "time = t_initial\n",
    "pair_distance_record = []\n",
    "counter = 0\n",
    "bin_array = np.zeros(no_of_shells)\n",
    "\n",
    "# potential_energy = potentialenergy(pos)\n",
    "kinetic_energy = 0.5*sum(np.square(v).sum(axis=1))\n",
    "# energy = kinetic_energy + potential_energy\n",
    "Time_List = [time]\n",
    "# Energy_List = [energy]\n",
    "# PotentialEnergy_List = [potential_energy]\n",
    "KineticEnergy_List = [kinetic_energy]\n",
    "# speed_list = [] #speed list for plotting histogram\n",
    "\n",
    "K_mean = T\n",
    "iterations = int((t_final-t_initial)/dt) # Number of iterations of the Verlet Algorithm.\n",
    "\n",
    "\n",
    "##################################### The Verlet Algorithm Loop ###################################\n",
    "\n",
    "for step in tqdm(range(iterations)):\n",
    "    pair_distance_list = []\n",
    "    pos += v*dt/2. ## Updating positions.\n",
    "    for i in range(Natoms): ## Imposing periodic boundary conditions.\n",
    "        for j in range(2):\n",
    "            if pos[i][j] > L: pos[i][j] -= L\n",
    "            elif pos[i][j] < 0: pos[i][j] += L\n",
    "    accel = np.zeros((Natoms,2)) ## Initialising acceleration array.\n",
    "    for i in range(Natoms-1):\n",
    "        for j in range(i+1,Natoms):\n",
    "            rij = pos[i] - pos[j]\n",
    "            for l in range(2):  ### Calculating the correct separation between particles.\n",
    "                if abs(rij[l])>0.5*L: rij[l] -= L*np.sign(rij[l])\n",
    "            if step>=2*iterations//5:\n",
    "                if step%10==0:\n",
    "                    counter += 1\n",
    "                    pair_distance = np.dot(rij, rij)\n",
    "                    dist_array += rdf(pair_distance)\n",
    "                    \n",
    "            if np.dot(rij,rij) < rcutsquare:\n",
    "                acc = acceleration(rij) # Computing acceleration for a pair of particles.\n",
    "                accel[i] += acc\n",
    "                accel[j] -= acc\n",
    "    v += accel*dt  ## Updating velocities.\n",
    "    pos += v*dt/2. ## Final updating of positions.\n",
    "    for i in range(Natoms): ## Imposing periodic boundary conditions.\n",
    "        for j in range(2):\n",
    "            if pos[i][j] > L: pos[i][j] -= L\n",
    "            elif pos[i][j] < 0: pos[i][j] += L\n",
    "\n",
    "    #         potential_energy = potentialenergy(pos)\n",
    "    kinetic_energy = 0.5*sum(np.square(v).sum(axis=1))\n",
    "\n",
    "    #scaling the velocity for keeping the temperature constant\n",
    "    if step>iterations//5:\n",
    "        Km = np.mean(kinetic_energy)/Natoms\n",
    "        lamda = np.sqrt(K_mean/Km)\n",
    "        v *= lamda\n",
    "    \n",
    "    #         energy = kinetic_energy + potential_energy\n",
    "    #         Energy_List.append(energy)\n",
    "    #         PotentialEnergy_List.append(potential_energy)\n",
    "#     KineticEnergy_List.append(kinetic_energy)\n",
    "#     time += dt\n",
    "#     Time_List.append(time)\n",
    "# #         if time>10:\n",
    "#             for atom in range(Natoms):\n",
    "#                 speeds = np.sqrt(np.dot(v[atom],v[atom]))\n",
    "#             speed_list.append(speeds)\n",
    "            \n"
   ]
  },
  {
   "cell_type": "code",
   "execution_count": 83,
   "metadata": {
    "id": "BdOpCnOa3n0n"
   },
   "outputs": [
    {
     "data": {
      "text/plain": [
       "[<matplotlib.lines.Line2D at 0x2049169cc70>]"
      ]
     },
     "execution_count": 83,
     "metadata": {},
     "output_type": "execute_result"
    },
    {
     "data": {
      "image/png": "[encoded data removed]",
      "text/plain": [
       "<Figure size 432x288 with 1 Axes>"
      ]
     },
     "metadata": {
      "needs_background": "light"
     },
     "output_type": "display_data"
    }
   ],
   "source": [
    "array_of_radii = np.linspace(0,L,no_of_shells)\n",
    "dist_array = dist_array/(counter*len(dist_array))\n",
    "plt.plot(array_of_radii, dist_array)"
   ]
  },
  {
   "cell_type": "code",
   "execution_count": null,
   "metadata": {
    "id": "SiDbAwSl3n0o",
    "outputId": "52387c18-10d5-4f4a-d929-651594954d36",
    "scrolled": true
   },
   "outputs": [],
   "source": [
    "len(pair_distance_list)"
   ]
  },
  {
   "cell_type": "code",
   "execution_count": null,
   "metadata": {
    "id": "4YwjKscR3n0p",
    "outputId": "e12a26ed-aea5-4aab-a670-b47190ca4412"
   },
   "outputs": [],
   "source": [
    "def create_picture(positions):\n",
    "    plt.cla()\n",
    "    plt.gca().set_aspect('equal')\n",
    "    plt.axis([0, L, 0, L])\n",
    "    plt.setp(plt.gca(), xticks=[0, L], yticks=[0, L])\n",
    "    for x,y in positions:\n",
    "        atom = plt.Circle((x, y), 0.45, fc='r')\n",
    "        plt.gca().add_patch(atom)\n",
    "create_picture(pos)"
   ]
  },
  {
   "cell_type": "markdown",
   "metadata": {
    "id": "9yJhSlWM3n0q"
   },
   "source": [
    "# Radial Distribution"
   ]
  },
  {
   "cell_type": "code",
   "execution_count": null,
   "metadata": {
    "id": "4dcjvb893n0r"
   },
   "outputs": [],
   "source": []
  },
  {
   "cell_type": "code",
   "execution_count": null,
   "metadata": {
    "colab": {
     "base_uri": "https://localhost:8080/"
    },
    "id": "4GlUXMT63n0s",
    "outputId": "f8b5c7f6-6f33-403a-cffc-067744c8e87b",
    "scrolled": true
   },
   "outputs": [],
   "source": [
    "radial_dis_data = []\n",
    "pair_distance_data = []\n",
    "for i in range(len(pos)):\n",
    "    for j in range(len(pos)):\n",
    "        if i!= j:\n",
    "            rij = pos[j]-pos[i]\n",
    "            pair_distance = np.dot(rij,rij)\n",
    "            pair_distance_data.append(pair_distance)\n",
    "            radial_dis_data.append(rdf(pair_distance))\n",
    "\n",
    "print(radial_dis_data)"
   ]
  },
  {
   "cell_type": "code",
   "execution_count": null,
   "metadata": {
    "colab": {
     "base_uri": "https://localhost:8080/",
     "height": 282
    },
    "id": "v5DcbodR6aKQ",
    "outputId": "0f7bbe6f-9955-4576-b949-84b2b609db7f"
   },
   "outputs": [],
   "source": [
    "plt.plot(pair_distance_data,radial_dis_data)"
   ]
  },
  {
   "cell_type": "code",
   "execution_count": null,
   "metadata": {
    "id": "qKLFlklV3n0s",
    "outputId": "f83f13f5-8db8-46b2-c9b0-2864865443c7"
   },
   "outputs": [],
   "source": [
    "pos, v = evolution_with_thermostate(pos, v)\n",
    "pos, v = evolution_without_thermostate(pos, v)\n",
    "data_for_rdf = []\n",
    "pos, v = evolution_without_thermostate(pos, v)\n",
    "data_for_rdf.append(rdf(pos))"
   ]
  },
  {
   "cell_type": "code",
   "execution_count": null,
   "metadata": {
    "id": "PE3Iys1M3n0s"
   },
   "outputs": [],
   "source": [
    "radiii = np.linspace(0, L, len(data_for_rdf))"
   ]
  },
  {
   "cell_type": "code",
   "execution_count": null,
   "metadata": {
    "id": "RQPFcsqC3n0t",
    "outputId": "2b490f0a-28bf-426b-db70-5120b2aba162"
   },
   "outputs": [],
   "source": [
    "data_for_rdf"
   ]
  },
  {
   "cell_type": "code",
   "execution_count": null,
   "metadata": {
    "id": "NBQ3NJRp3n0t"
   },
   "outputs": [],
   "source": []
  }
 ],
 "metadata": {
  "colab": {
   "collapsed_sections": [],
   "name": "radial distribution.ipynb",
   "provenance": []
  },
  "kernelspec": {
   "display_name": "Python 3 (ipykernel)",
   "language": "python",
   "name": "python3"
  },
  "language_info": {
   "codemirror_mode": {
    "name": "ipython",
    "version": 3
   },
   "file_extension": ".py",
   "mimetype": "text/x-python",
   "name": "python",
   "nbconvert_exporter": "python",
   "pygments_lexer": "ipython3",
   "version": "3.10.0"
  }
 },
 "nbformat": 4,
 "nbformat_minor": 1
}
