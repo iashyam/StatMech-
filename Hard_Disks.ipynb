{
 "cells": [
  {
   "cell_type": "code",
   "execution_count": 1,
   "metadata": {
    "executionInfo": {
     "elapsed": 4,
     "status": "ok",
     "timestamp": 1641440450086,
     "user": {
      "displayName": "Abhinav Gupta",
      "photoUrl": "https://lh3.googleusercontent.com/a/default-user=s64",
      "userId": "16056252826196756543"
     },
     "user_tz": -330
    },
    "id": "TNYpJfHpO2VI"
   },
   "outputs": [],
   "source": [
    "import numpy as np\n",
    "import matplotlib.pyplot as plt\n",
    "%matplotlib inline"
   ]
  },
  {
   "cell_type": "code",
   "execution_count": 2,
   "metadata": {
    "executionInfo": {
     "elapsed": 2,
     "status": "ok",
     "timestamp": 1641440455085,
     "user": {
      "displayName": "Abhinav Gupta",
      "photoUrl": "https://lh3.googleusercontent.com/a/default-user=s64",
      "userId": "16056252826196756543"
     },
     "user_tz": -330
    },
    "id": "lXMCBRYOO2Vf"
   },
   "outputs": [],
   "source": [
    "#####  Function to compute time for wall collision ######\n",
    "def wall_time(coord, velcomp, rad):  \n",
    "    if velcomp > 0.0:\n",
    "        del_t = (1.0 - rad - coord) / velcomp #we are taking edge length to be 1 here modify 1 with edge length\n",
    "    elif velcomp < 0.0:\n",
    "        del_t = (coord - rad) / abs(velcomp) #or can go as (rad - coord)/velcomp\n",
    "    else:\n",
    "        del_t = float('inf') #float inf is stored as very big number in python\n",
    "    return del_t\n",
    "\n",
    "\n",
    "# Function to calculate time it takes for a pair of particles to collide. \n",
    "# pos1 and pos2 are positions of particles 1 and 2, vel1 and vel2 are their \n",
    "# velocities. rad is the radius of the particles. \n",
    "def pair_time(pos1, vel1, pos2, vel2, rad):  \n",
    "    rel_pos = pos2 - pos1\n",
    "    rel_vel = vel2 - vel1\n",
    "    rel_dist_squar = np.dot(rel_pos,rel_pos)\n",
    "    rel_speed_squar = np.dot(rel_vel,rel_vel)\n",
    "    scal_prod = np.dot(rel_pos,rel_vel)\n",
    "    a = scal_prod ** 2 - rel_speed_squar * ( rel_dist_squar - 4.0 * rad **2) #a is just another parameter\n",
    "    if a > 0.0 and scal_prod < 0.0: ## Conditions for collision.\n",
    "        del_t = - (scal_prod + np.sqrt(a)) / rel_speed_squar ## Collision time.\n",
    "    else:\n",
    "        del_t = float('inf')\n",
    "    return del_t\n",
    "\n",
    "\n",
    "# Function to generate an image of the disk configuration in the box.\n",
    "def create_picture(positions):\n",
    "    plt.cla()\n",
    "    plt.gca().set_aspect('equal')\n",
    "    plt.axis([0, L, 0, L])\n",
    "    plt.setp(plt.gca(), xticks=[0, L], yticks=[0, L])\n",
    "    for x,y in positions:\n",
    "        atom = plt.Circle((x, y), Ratom, fc='r')\n",
    "        plt.gca().add_patch(atom)\n",
    "      "
   ]
  },
  {
   "cell_type": "code",
   "execution_count": 3,
   "metadata": {
    "executionInfo": {
     "elapsed": 3,
     "status": "ok",
     "timestamp": 1641440460688,
     "user": {
      "displayName": "Abhinav Gupta",
      "photoUrl": "https://lh3.googleusercontent.com/a/default-user=s64",
      "userId": "16056252826196756543"
     },
     "user_tz": -330
    },
    "id": "IAUP29Y8O2Vh"
   },
   "outputs": [
    {
     "name": "stdout",
     "output_type": "stream",
     "text": [
      "[[0, 1], [0, 2], [0, 3], [1, 2], [1, 3], [2, 3]]\n"
     ]
    }
   ],
   "source": [
    "######################### Initialization #################################\n",
    "L = 1. ## Box edge length\n",
    "Natoms = 4  # Number of disks\n",
    "density = 0.05 # Fraction of the area of the box covered by the disks\n",
    "Ratom = np.sqrt(density/(Natoms*np.pi))   ## Radius of disk.\n",
    "\n",
    "\n",
    "## List indexing all pairs of atoms.\n",
    "pairs = [[i,j] for i in range(Natoms) for j in range(i+1, Natoms)] \n",
    "print(pairs)\n",
    "## Positions and velocities of disks.\n",
    "positions = np.array([[0.4,0.4],[0.4,0.6],[0.6, 0.4], [0.6,0.6]])\n",
    "velocities = np.array([[0.5,0.5],[1.,1.],[0.,1.],[0.,0.]])\n",
    "\n",
    "t = 0.0 # Initial time.\n",
    "n_events = 2000 # Number of collision events.\n",
    "#################################################################################"
   ]
  },
  {
   "cell_type": "code",
   "execution_count": 4,
   "metadata": {
    "executionInfo": {
     "elapsed": 376,
     "status": "ok",
     "timestamp": 1641440468825,
     "user": {
      "displayName": "Abhinav Gupta",
      "photoUrl": "https://lh3.googleusercontent.com/a/default-user=s64",
      "userId": "16056252826196756543"
     },
     "user_tz": -330
    },
    "id": "Q8bNF8kuO2Vj"
   },
   "outputs": [
    {
     "name": "stdout",
     "output_type": "stream",
     "text": [
      "[[-0.33637915 -0.02376902]\n",
      " [-0.49325164  0.90941835]\n",
      " [-0.47117985 -0.89069819]\n",
      " [-0.15369269  1.13003098]]\n"
     ]
    }
   ],
   "source": [
    " ############### Event Loop ##############################################\n",
    "for event in range(n_events):\n",
    "    # Wall collision times for all disks and their velocity components.\n",
    "    wall_times = [wall_time(positions[i][j], velocities[i][j], Ratom) for i in range(Natoms) for j in range(2)]\n",
    "    # Pair collision times\n",
    "    pair_times = [pair_time(positions[i], velocities[i], positions[j], velocities[j], Ratom) for i,j in pairs] \n",
    "    # The next collision event is the minimum of wall and pair collision times.\n",
    "    next_event = min(wall_times + pair_times)  \n",
    "    t += next_event \n",
    "    for i in range(Natoms):\n",
    "        positions[i] += velocities[i]*next_event # Evolve positions to collision event\n",
    "    if min(wall_times) < min(pair_times): # Check if next event is a collision with a wall or pair collions\n",
    "        wall_index = wall_times.index(next_event)\n",
    "#         print(wall_index)\n",
    "        particle, component = divmod(wall_index, 2) ##)How does that even work?\n",
    "        velocities[particle][component] *= -1.0 ## Velocity component normal to wall changes sign\n",
    "    else:\n",
    "        pair_index = pair_times.index(next_event)\n",
    "        particle_1, particle_2 = pairs[pair_index] # Indices of particles participating in collision.\n",
    "        rel_pos = positions[particle_2] - positions[particle_1]\n",
    "        rel_vel = velocities[particle_2] - velocities[particle_1]\n",
    "        distance = np.sqrt(np.dot(rel_pos,rel_pos))\n",
    "        unit_perp = rel_pos/distance\n",
    "        scal_prod = np.dot(rel_vel,unit_perp)\n",
    "        velocities[particle_1] += scal_prod*unit_perp # Change in velocities of atoms colliding with each other\n",
    "        velocities[particle_2] -= scal_prod*unit_perp\n",
    "\n",
    "##################################################################################\n",
    "print(velocities)"
   ]
  },
  {
   "cell_type": "code",
   "execution_count": 5,
   "metadata": {
    "colab": {
     "base_uri": "https://localhost:8080/",
     "height": 269
    },
    "executionInfo": {
     "elapsed": 6,
     "status": "ok",
     "timestamp": 1641440475234,
     "user": {
      "displayName": "Abhinav Gupta",
      "photoUrl": "https://lh3.googleusercontent.com/a/default-user=s64",
      "userId": "16056252826196756543"
     },
     "user_tz": -330
    },
    "id": "dxzZcpFWO2Vl",
    "outputId": "e21b9d8b-c070-47b7-d52e-d6c67d17e6c8"
   },
   "outputs": [],
   "source": [
    "def event_driven(positions, velocities, n_events=2000):\n",
    "    L = 1. ## Box edge length\n",
    "    Natoms = 4  # Number of disks\n",
    "    density = 0.05 # Fraction of the area of the box covered by the disks\n",
    "    Ratom = np.sqrt(density/(Natoms*np.pi))   ## Radius of disk.\n",
    "\n",
    "    ## List indexing all pairs of atoms.\n",
    "    pairs = [[i,j] for i in range(Natoms) for j in range(i+1, Natoms)] \n",
    "#     print(pairs)\n",
    "\n",
    "    t = 0.0 # Initial time.\n",
    "#     n_events = 20 # Number of collision events.\n",
    "\n",
    "    for event in range(n_events):\n",
    "        # Wall collision times for all disks and their velocity components.\n",
    "        wall_times = [wall_time(positions[i][j], velocities[i][j], Ratom) for i in range(Natoms) for j in range(2)]\n",
    "        # Pair collision times\n",
    "        pair_times = [pair_time(positions[i], velocities[i], positions[j], velocities[j], Ratom) for i,j in pairs] \n",
    "        # The next collision event is the minimum of wall and pair collision times.\n",
    "        next_event = min(wall_times + pair_times)  \n",
    "        t += next_event \n",
    "        for i in range(Natoms):\n",
    "            positions[i] += velocities[i]*next_event # Evolve positions to collision event\n",
    "#             print(positions)\n",
    "        if min(wall_times) < min(pair_times): # Check if next event is a collision with a wall or pair collions\n",
    "            wall_index = wall_times.index(next_event)\n",
    "            particle, component = divmod(wall_index, 2) ##)How does that even work?\n",
    "            velocities[particle][component] *= -1.0 ## Velocity component normal to wall changes sign\n",
    "        else:\n",
    "            pair_index = pair_times.index(next_event)\n",
    "            particle_1, particle_2 = pairs[pair_index] # Indices of particles participating in collision.\n",
    "            rel_pos = positions[particle_2] - positions[particle_1]\n",
    "            rel_vel = velocities[particle_2] - velocities[particle_1]\n",
    "            distance = np.sqrt(np.dot(rel_pos,rel_pos))\n",
    "            unit_perp = rel_pos/distance\n",
    "            scal_prod = np.dot(rel_vel,unit_perp)\n",
    "            velocities[particle_1] += scal_prod*unit_perp # Change in velocities of atoms colliding with each other\n",
    "            velocities[particle_2] -= scal_prod*unit_perp\n",
    "            \n",
    "    return positions, velocities"
   ]
  },
  {
   "cell_type": "code",
   "execution_count": 6,
   "metadata": {
    "id": "ygZCm9KzO2Vp",
    "scrolled": true
   },
   "outputs": [],
   "source": [
    "def rms_fluctuation(positions, velocities, n_events):\n",
    "    Vs_i = [np.sqrt(i**2 + j**2) for i,j in velocities]\n",
    "    Vs_sum = sum(np.array(Vs_i)**2)\n",
    "    \n",
    "    \n",
    "    V_f = event_driven_approach(positions, velocities)\n",
    "    Vs_f = [np.sqrt(i**2 + j**2) for i,j in V_f]\n",
    "    Vs_f_sum = sum(np.array(Vs_f)**2)\n",
    "    \n",
    "    \n",
    "    return Vs_f_sum/Vs_sum #ratio of final and initial rms"
   ]
  },
  {
   "cell_type": "code",
   "execution_count": 23,
   "metadata": {
    "scrolled": true
   },
   "outputs": [
    {
     "name": "stdout",
     "output_type": "stream",
     "text": [
      "0.7502759228468515\n"
     ]
    },
    {
     "data": {
      "text/plain": [
       "[<matplotlib.lines.Line2D at 0x24c11d2d2d0>]"
      ]
     },
     "execution_count": 23,
     "metadata": {},
     "output_type": "execute_result"
    },
    {
     "data": {
      "image/png": "[encoded data removed]",
      "text/plain": [
       "<Figure size 432x288 with 1 Axes>"
      ]
     },
     "metadata": {
      "needs_background": "light"
     },
     "output_type": "display_data"
    }
   ],
   "source": [
    "pos_1 = np.array([[0.4,0.4],[0.4,0.6],[0.6, 0.4], [0.6,0.6]])\n",
    "vel_1 = np.array([[0.5,0.5],[1.,1.],[0.,1.01],[0.,0.]])\n",
    "\n",
    "vel = sum([np.dot(i,i) for i in vel_1])\n",
    "\n",
    "pos_2 = np.array([[0.4,0.4],[0.4,0.6],[0.6, 0.4], [0.6,0.6]])\n",
    "# vel_2 = np.array([[0.502,0.502],[1.02,1.02],[0.02,1.02],[0.02,0.02]]) #Slight change\n",
    "vel_2 = np.array([[0.5,0.5],[1.,1.0],[0.,1.],[0.,0.]])\n",
    "\n",
    "\n",
    "f_pos_1, f_vel_1 = event_driven(pos_1, vel_1)\n",
    "f_pos_2, f_vel_2 = event_driven(pos_2, vel_2)\n",
    "\n",
    "dist = [] \n",
    "\n",
    "for i in range(len(f_vel_1)):\n",
    "    diff = f_vel_1[i]-f_vel_2[i]\n",
    "    dist.append(np.dot(diff,diff)) #|diff|^2\n",
    "    \n",
    "print(sum(dist)/vel)\n",
    "\n",
    "def mean_distances(event_number):\n",
    "    f_pos_1, f_vel_1 = event_driven(pos_1, vel_1,event_number)\n",
    "    f_pos_2, f_vel_2 = event_driven(pos_2, vel_2,event_number)\n",
    "    \n",
    "    diff = f_vel_2 - f_vel_1\n",
    "    dist = [np.dot(i,i) for i in diff]\n",
    "\n",
    "#     dist = np.zeros(len(f_vel_1))\n",
    "\n",
    "#     for i in range(len(f_vel_1)):\n",
    "#         diff = f_vel_1[i]-f_vel_2[i]\n",
    "#         dist[i] = (np.dot(diff,diff))\n",
    "    \n",
    "    return sum(dist)/vel\n",
    "\n",
    "dist\n",
    "\n",
    "event_number = list(range(0,30))\n",
    "mean_dist = list(map(mean_distances, event_number))\n",
    "plt.plot(event_number, mean_dist)"
   ]
  },
  {
   "cell_type": "code",
   "execution_count": 11,
   "metadata": {},
   "outputs": [
    {
     "ename": "NameError",
     "evalue": "name 'positions2' is not defined",
     "output_type": "error",
     "traceback": [
      "\u001b[1;31m---------------------------------------------------------------------------\u001b[0m",
      "\u001b[1;31mNameError\u001b[0m                                 Traceback (most recent call last)",
      "\u001b[1;32m~\\AppData\\Local\\Temp/ipykernel_13456/3128901909.py\u001b[0m in \u001b[0;36m<module>\u001b[1;34m\u001b[0m\n\u001b[0;32m      1\u001b[0m \u001b[0mf_velocites1\u001b[0m \u001b[1;33m=\u001b[0m \u001b[0mevent_driven_approach\u001b[0m\u001b[1;33m(\u001b[0m\u001b[0mpositions\u001b[0m\u001b[1;33m,\u001b[0m\u001b[0mvelocities\u001b[0m\u001b[1;33m)\u001b[0m\u001b[1;33m\u001b[0m\u001b[1;33m\u001b[0m\u001b[0m\n\u001b[1;32m----> 2\u001b[1;33m \u001b[0mf_velocites2\u001b[0m \u001b[1;33m=\u001b[0m \u001b[0mevent_driven_approach\u001b[0m\u001b[1;33m(\u001b[0m\u001b[0mpositions2\u001b[0m\u001b[1;33m,\u001b[0m\u001b[0mvelocities2\u001b[0m\u001b[1;33m)\u001b[0m\u001b[1;33m\u001b[0m\u001b[1;33m\u001b[0m\u001b[0m\n\u001b[0m\u001b[0;32m      3\u001b[0m \u001b[1;33m\u001b[0m\u001b[0m\n\u001b[0;32m      4\u001b[0m \u001b[1;31m# print(f_velocites1)\u001b[0m\u001b[1;33m\u001b[0m\u001b[1;33m\u001b[0m\u001b[0m\n\u001b[0;32m      5\u001b[0m \u001b[1;31m# print()\u001b[0m\u001b[1;33m\u001b[0m\u001b[1;33m\u001b[0m\u001b[0m\n",
      "\u001b[1;31mNameError\u001b[0m: name 'positions2' is not defined"
     ]
    }
   ],
   "source": [
    "f_velocites1 = event_driven_approach(positions,velocities)\n",
    "f_velocites2 = event_driven_approach(positions2,velocities2)\n",
    "\n",
    "# print(f_velocites1)\n",
    "# print()\n",
    "# print(f_velocites2)\n",
    "\n",
    "V1 = [np.sqrt(i**2 + j**2) for i,j in f_velocites1]\n",
    "V1_sum = sum(np.array(V1)**2) \n",
    "\n",
    "V2 = [np.sqrt(i**2 + j**2) for i,j in f_velocites2]\n",
    "V2_sum = sum(np.array(V2)**2)\n",
    "\n",
    "V3 = []\n",
    "\n",
    "for i in V1:\n",
    "    for j in V2:\n",
    "        V3.append((i-j)**2)\n",
    "        \n",
    "V3_sum = sum(V3)\n",
    "        \n",
    "print(V3_sum/V1_sum)"
   ]
  },
  {
   "cell_type": "code",
   "execution_count": 10,
   "metadata": {},
   "outputs": [
    {
     "name": "stdout",
     "output_type": "stream",
     "text": [
      "0.9651423667717529\n"
     ]
    }
   ],
   "source": []
  },
  {
   "cell_type": "code",
   "execution_count": 52,
   "metadata": {},
   "outputs": [],
   "source": [
    "def mean_distance(n_events):\n",
    "    \n",
    "    f_velocites1 = event_driven_approach(positions,velocities,n_events)\n",
    "    f_velocites2 = event_driven_approach(positions2,velocities2,n_events)\n",
    "    \n",
    "    V1 = [np.sqrt(i**2 + j**2) for i,j in f_velocites1]\n",
    "    V1_sum = sum(np.array(V1)**2)\n",
    "\n",
    "    V2 = [np.sqrt(i**2 + j**2) for i,j in f_velocites2]\n",
    "    v3 = []\n",
    "    for i in V1:\n",
    "        for j in V2:\n",
    "            V3.append((i-j)**2)\n",
    "        \n",
    "    V3_sum = sum(V3)\n",
    "    \n",
    "    return V1_sum/V3_sum"
   ]
  },
  {
   "cell_type": "code",
   "execution_count": 53,
   "metadata": {},
   "outputs": [],
   "source": [
    "event_number = list(range(1,1500,5))\n",
    "mean_dist = list(map(mean_distance, event_number))"
   ]
  },
  {
   "cell_type": "code",
   "execution_count": 54,
   "metadata": {},
   "outputs": [
    {
     "data": {
      "text/plain": [
       "[<matplotlib.lines.Line2D at 0x217b94744f0>]"
      ]
     },
     "execution_count": 54,
     "metadata": {},
     "output_type": "execute_result"
    },
    {
     "data": {
      "image/png": "[encoded data removed]",
      "text/plain": [
       "<Figure size 432x288 with 1 Axes>"
      ]
     },
     "metadata": {
      "needs_background": "light"
     },
     "output_type": "display_data"
    }
   ],
   "source": [
    "plt.plot(event_number, mean_dist)"
   ]
  },
  {
   "cell_type": "code",
   "execution_count": 10,
   "metadata": {},
   "outputs": [],
   "source": [
    "def event_driven_approach(positions, velocities, n_events=2000):\n",
    "    L = 1. ## Box edge length\n",
    "    Natoms = 4  # Number of disks\n",
    "    density = 0.05 # Fraction of the area of the box covered by the disks\n",
    "    Ratom = np.sqrt(density/(Natoms*np.pi))   ## Radius of disk.\n",
    "\n",
    "    ## List indexing all pairs of atoms.\n",
    "    pairs = [[i,j] for i in range(Natoms) for j in range(i+1, Natoms)] \n",
    "#     print(pairs)\n",
    "\n",
    "    t = 0.0 # Initial time.\n",
    "#     n_events = 20 # Number of collision events.\n",
    "\n",
    "    for event in range(n_events):\n",
    "        # Wall collision times for all disks and their velocity components.\n",
    "        wall_times = [wall_time(positions[i][j], velocities[i][j], Ratom) for i in range(Natoms) for j in range(2)]\n",
    "        # Pair collision times\n",
    "        pair_times = [pair_time(positions[i], velocities[i], positions[j], velocities[j], Ratom) for i,j in pairs] \n",
    "        # The next collision event is the minimum of wall and pair collision times.\n",
    "        next_event = min(wall_times + pair_times)  \n",
    "        t += next_event \n",
    "        for i in range(Natoms):\n",
    "            positions[i] += velocities[i]*next_event # Evolve positions to collision event\n",
    "#             print(positions)\n",
    "        if min(wall_times) < min(pair_times): # Check if next event is a collision with a wall or pair collions\n",
    "            wall_index = wall_times.index(next_event)\n",
    "            particle, component = divmod(wall_index, 2) ##)How does that even work?\n",
    "            velocities[particle][component] *= -1.0 ## Velocity component normal to wall changes sign\n",
    "        else:\n",
    "            pair_index = pair_times.index(next_event)\n",
    "            particle_1, particle_2 = pairs[pair_index] # Indices of particles participating in collision.\n",
    "            rel_pos = positions[particle_2] - positions[particle_1]\n",
    "            rel_vel = velocities[particle_2] - velocities[particle_1]\n",
    "            distance = np.sqrt(np.dot(rel_pos,rel_pos))\n",
    "            unit_perp = rel_pos/distance\n",
    "            scal_prod = np.dot(rel_vel,unit_perp)\n",
    "            velocities[particle_1] += scal_prod*unit_perp # Change in velocities of atoms colliding with each other\n",
    "            velocities[particle_2] -= scal_prod*unit_perp\n",
    "            \n",
    "    return positions,velocities"
   ]
  },
  {
   "cell_type": "code",
   "execution_count": 66,
   "metadata": {},
   "outputs": [
    {
     "name": "stdout",
     "output_type": "stream",
     "text": [
      "[[0.2280605  0.09055611]\n",
      " [0.36318432 0.75220491]\n",
      " [0.30689639 0.93692169]\n",
      " [0.75295032 0.31978045]] [[-0.33637915 -0.02376902]\n",
      " [-0.49325164  0.90941835]\n",
      " [-0.47117985 -0.89069819]\n",
      " [-0.15369269  1.13003098]]\n",
      "[[-0.33637915 -0.02376902]\n",
      " [-0.49325164  0.90941835]\n",
      " [-0.47117985 -0.89069819]\n",
      " [-0.15369269  1.13003098]]\n"
     ]
    },
    {
     "name": "stderr",
     "output_type": "stream",
     "text": [
      "C:\\Users\\shyam\\AppData\\Local\\Temp/ipykernel_14268/3575980666.py:23: RuntimeWarning: invalid value encountered in multiply\n",
      "  positions[i] += velocities[i]*next_event # Evolve positions to collision event\n"
     ]
    }
   ],
   "source": [
    "positions = np.array([[0.4,0.4],[0.4,0.6],[0.6, 0.4], [0.6,0.6]])\n",
    "velocities = np.array([[0.5,0.5],[1.,1.],[0.,1.],[0.,0.]])\n",
    "\n",
    "positions1 ,velocities1 = event_driven_approach(positions, velocities)\n",
    "\n",
    "print(positions1, velocities1)\n",
    "\n",
    "velocities3 = np.zeros((len(velocities1),2))\n",
    "print(velocities)\n",
    "# position2, velocities2 = event_driven_approach(positions1, velocities3)"
   ]
  },
  {
   "cell_type": "code",
   "execution_count": 39,
   "metadata": {},
   "outputs": [
    {
     "name": "stdout",
     "output_type": "stream",
     "text": [
      "[[0.47692849 0.2204531 ]\n",
      " [0.59641991 0.80816249]\n",
      " [0.59374626 0.17281798]\n",
      " [0.7236338  0.43623098]] [[-1.24683277  0.18875069]\n",
      " [ 0.39650021  0.34971754]\n",
      " [-0.87521565 -0.01496807]\n",
      " [ 0.82206166  0.43388319]]\n"
     ]
    }
   ],
   "source": [
    "print(position2, velocities2)"
   ]
  },
  {
   "cell_type": "code",
   "execution_count": 37,
   "metadata": {},
   "outputs": [
    {
     "data": {
      "text/plain": [
       "array([[ 0, -1],\n",
       "       [ 0, -2],\n",
       "       [ 0, -3],\n",
       "       [-1, -2],\n",
       "       [-1, -3],\n",
       "       [-2, -3]])"
      ]
     },
     "execution_count": 37,
     "metadata": {},
     "output_type": "execute_result"
    }
   ],
   "source": [
    "x = [1,2,3,4]\n",
    "-1*np.array(pairs)"
   ]
  },
  {
   "cell_type": "code",
   "execution_count": 47,
   "metadata": {},
   "outputs": [],
   "source": [
    "def area(a, b=2): \n",
    "    return a*b"
   ]
  },
  {
   "cell_type": "code",
   "execution_count": 49,
   "metadata": {},
   "outputs": [
    {
     "data": {
      "text/plain": [
       "28"
      ]
     },
     "execution_count": 49,
     "metadata": {},
     "output_type": "execute_result"
    }
   ],
   "source": [
    "area(4,7)"
   ]
  },
  {
   "cell_type": "code",
   "execution_count": 130,
   "metadata": {},
   "outputs": [
    {
     "name": "stdout",
     "output_type": "stream",
     "text": [
      "Hello WOrld\n"
     ]
    }
   ],
   "source": [
    "print(\"Hello WOrld\")"
   ]
  },
  {
   "cell_type": "code",
   "execution_count": null,
   "metadata": {},
   "outputs": [],
   "source": []
  }
 ],
 "metadata": {
  "colab": {
   "collapsed_sections": [],
   "name": "Hard_Disks.ipynb",
   "provenance": []
  },
  "kernelspec": {
   "display_name": "Python 3 (ipykernel)",
   "language": "python",
   "name": "python3"
  },
  "language_info": {
   "codemirror_mode": {
    "name": "ipython",
    "version": 3
   },
   "file_extension": ".py",
   "mimetype": "text/x-python",
   "name": "python",
   "nbconvert_exporter": "python",
   "pygments_lexer": "ipython3",
   "version": "3.10.0"
  }
 },
 "nbformat": 4,
 "nbformat_minor": 1
}
